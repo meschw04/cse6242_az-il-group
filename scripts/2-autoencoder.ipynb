{
 "cells": [
  {
   "cell_type": "code",
   "execution_count": 1,
   "metadata": {},
   "outputs": [
    {
     "name": "stderr",
     "output_type": "stream",
     "text": [
      "Using TensorFlow backend.\n"
     ]
    }
   ],
   "source": [
    "from __future__ import absolute_import\n",
    "from __future__ import division\n",
    "from __future__ import print_function\n",
    "\n",
    "import pandas as pd\n",
    "import json\n",
    "import h5py\n",
    "import os\n",
    "\n",
    "import keras\n",
    "from keras.models import load_model\n",
    "from keras.datasets import cifar10\n",
    "from keras.layers import Input, Dense, Conv2D, MaxPooling2D, UpSampling2D, \\\n",
    "                            BatchNormalization, Activation, Dropout\n",
    "from keras.models import Model\n",
    "from keras.callbacks import EarlyStopping, ModelCheckpoint\n",
    "from keras.optimizers import Adam\n",
    "import pickle\n",
    "\n",
    "from keras.layers import Dense, Input\n",
    "from keras.layers import Conv2D, Flatten, Lambda\n",
    "from keras.layers import Reshape, Conv2DTranspose\n",
    "from keras.datasets import mnist\n",
    "from keras.losses import mse, binary_crossentropy\n",
    "from keras.utils import plot_model\n",
    "from keras import backend as K\n",
    "\n",
    "import numpy as np\n",
    "import matplotlib.pyplot as plt\n",
    "import argparse\n",
    "import seaborn as sns\n",
    "\n",
    "\n",
    "from sklearn.manifold import TSNE"
   ]
  },
  {
   "cell_type": "code",
   "execution_count": 4,
   "metadata": {},
   "outputs": [
    {
     "name": "stdout",
     "output_type": "stream",
     "text": [
      "album_images/Awake Is The New Sleep_Ben Lee.png\n",
      "album_images/The Offspring_The Offspring.png\n",
      "album_images/Nothing Was The Same (Deluxe)_Drake.png\n",
      "album_images/For You_Selena Gomez.png\n",
      "album_images/With Ears to See and Eyes to Hear_Sleeping with Sirens.png\n",
      "album_images/The Big Picture_Big L.png\n",
      "album_images/Unfamiliar Faces_Matt Costa.png\n",
      "album_images/Termination Bliss_Deathstars.png\n",
      "album_images/Spirit_Leona Lewis.png\n",
      "album_images/Sparkle And Fade_Everclear.png\n",
      "album_images/When Broken Is Easily Fixed_Silverstein.png\n",
      "album_images/Black Stone Cherry_Black Stone Cherry.png\n",
      "album_images/Cure for Pain_Morphine.png\n",
      "album_images/Who's Greatest Hits_The Who.png\n",
      "album_images/To Lose My Life_White Lies.png\n",
      "album_images/The Man Who_Travis.png\n",
      "album_images/Innervisions_Stevie Wonder.png\n",
      "album_images/Kellie Pickler_Kellie Pickler.png\n",
      "album_images/King Of The Delta Blues Singers_Robert Johnson.png\n",
      "album_images/Title of Record_Filter.png\n"
     ]
    }
   ],
   "source": [
    "for i in os.listdir('album_images')[:20]:\n",
    "    print('album_images'+'/'+i)\n",
    "#    cv2.imread('album_images'+'/'+i)"
   ]
  },
  {
   "cell_type": "code",
   "execution_count": null,
   "metadata": {},
   "outputs": [],
   "source": [
    "def get_autoencoder():\n",
    "    input_img = Input(shape=(32, 32, 3))\n",
    "    x = Conv2D(64, (3, 3), padding='same')(input_img)\n",
    "    x = BatchNormalization()(x)\n",
    "    x = Activation('relu')(x)\n",
    "    x = MaxPooling2D((2, 2), padding='same')(x)\n",
    "    x = Conv2D(32, (3, 3), padding='same')(x)\n",
    "    x = BatchNormalization()(x)\n",
    "    x = Activation('relu')(x)\n",
    "    x = MaxPooling2D((2, 2), padding='same')(x)\n",
    "    x = Conv2D(16, (3, 3), padding='same')(x)\n",
    "    x = BatchNormalization()(x)\n",
    "    x = Activation('relu')(x)\n",
    "    encoded = MaxPooling2D((2, 2), padding='same', name=\"encoded\")(x)\n",
    "\n",
    "    x = Conv2D(16, (3, 3), padding='same')(encoded)\n",
    "    x = BatchNormalization()(x)\n",
    "    x = Activation('relu')(x)\n",
    "    x = UpSampling2D((2, 2))(x)\n",
    "    x = Conv2D(32, (3, 3), padding='same')(x)\n",
    "    x = BatchNormalization()(x)\n",
    "    x = Activation('relu')(x)\n",
    "    x = UpSampling2D((2, 2))(x)\n",
    "    x = Conv2D(64, (3, 3), padding='same')(x)\n",
    "    x = BatchNormalization()(x)\n",
    "    x = Activation('relu')(x)\n",
    "    x = UpSampling2D((2, 2))(x)\n",
    "    x = Conv2D(3, (3, 3), padding='same')(x)\n",
    "    x = BatchNormalization()(x)\n",
    "    decoded = Activation('sigmoid')(x)\n",
    "    \n",
    "    model = Model(input_img, decoded)\n",
    "    model.compile(optimizer='adam', loss='binary_crossentropy')\n",
    "    return model"
   ]
  },
  {
   "cell_type": "code",
   "execution_count": null,
   "metadata": {},
   "outputs": [],
   "source": [
    "batch_size = 32\n",
    "num_classes = 10\n",
    "epochs = 10\n",
    "x_train = truncated_images\n",
    "\n",
    "autoencoder = get_autoencoder()\n",
    "history = autoencoder.fit(x_train, x_train,\n",
    "                    batch_size=batch_size,\n",
    "                    epochs=epochs,\n",
    "                    verbose=1,\n",
    "                    shuffle=True)"
   ]
  }
 ],
 "metadata": {
  "kernelspec": {
   "display_name": "Python 3",
   "language": "python",
   "name": "python3"
  },
  "language_info": {
   "codemirror_mode": {
    "name": "ipython",
    "version": 3
   },
   "file_extension": ".py",
   "mimetype": "text/x-python",
   "name": "python",
   "nbconvert_exporter": "python",
   "pygments_lexer": "ipython3",
   "version": "3.6.7"
  }
 },
 "nbformat": 4,
 "nbformat_minor": 2
}
